{
 "cells": [
  {
   "metadata": {},
   "cell_type": "code",
   "source": [
    "import os\n",
    "from huggingface_hub import upload_file\n",
    "from dotenv import load_dotenv\n",
    "\n",
    "load_dotenv()\n",
    "\n",
    "HUGGINGFACE_TOKEN = os.getenv('HUGGINGFACE_TOKEN')"
   ],
   "id": "912c45f5f0ea2a61",
   "outputs": [],
   "execution_count": null
  },
  {
   "metadata": {},
   "cell_type": "code",
   "source": [
    "# Upload server details to space\n",
    "upload_file(\n",
    "    path_or_fileobj=\"server_specs.csv\",\n",
    "    path_in_repo=\"server_specs.csv\",\n",
    "    repo_id=\"evilfreelancer/msnp-leaderboard\",\n",
    "    repo_type=\"space\",\n",
    "    token=HUGGINGFACE_TOKEN,\n",
    "    commit_message=\"Update server_specs.csv\"\n",
    ")"
   ],
   "id": "158fe8d5d9037cec",
   "outputs": [],
   "execution_count": null
  },
  {
   "metadata": {},
   "cell_type": "code",
   "source": [
    "# Upload results to space\n",
    "upload_file(\n",
    "    path_or_fileobj=\"leaderboard_data.csv\",\n",
    "    path_in_repo=\"leaderboard_data.csv\",\n",
    "    repo_id=\"evilfreelancer/msnp-leaderboard\",\n",
    "    repo_type=\"space\",\n",
    "    token=HUGGINGFACE_TOKEN,\n",
    "    commit_message=\"Update leaderboard_data.csv\"\n",
    ")"
   ],
   "id": "e6b53dac3cf39a81",
   "outputs": [],
   "execution_count": null
  }
 ],
 "metadata": {
  "kernelspec": {
   "display_name": "Python 3",
   "language": "python",
   "name": "python3"
  },
  "language_info": {
   "codemirror_mode": {
    "name": "ipython",
    "version": 2
   },
   "file_extension": ".py",
   "mimetype": "text/x-python",
   "name": "python",
   "nbconvert_exporter": "python",
   "pygments_lexer": "ipython2",
   "version": "2.7.6"
  }
 },
 "nbformat": 4,
 "nbformat_minor": 5
}
