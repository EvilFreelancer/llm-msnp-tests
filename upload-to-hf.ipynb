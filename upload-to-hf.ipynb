{
 "cells": [
  {
   "cell_type": "code",
   "id": "initial_id",
   "metadata": {
    "collapsed": true
   },
   "source": "%pip install datasets",
   "outputs": [],
   "execution_count": null
  },
  {
   "metadata": {},
   "cell_type": "code",
   "source": [
    "import os\n",
    "from datasets import Dataset\n",
    "from dotenv import load_dotenv\n",
    "\n",
    "load_dotenv()\n",
    "\n",
    "HUGGINGFACE_TOKEN = os.getenv('HUGGINGFACE_TOKEN')"
   ],
   "id": "912c45f5f0ea2a61",
   "outputs": [],
   "execution_count": null
  },
  {
   "metadata": {},
   "cell_type": "code",
   "source": [
    "# Read the CSV file\n",
    "data_files = {\"test\": \"leaderboard_data.csv\"}\n",
    "dataset = Dataset.from_csv(\"leaderboard_data.csv\")\n",
    "dataset"
   ],
   "id": "e6b53dac3cf39a81",
   "outputs": [],
   "execution_count": null
  },
  {
   "metadata": {},
   "cell_type": "code",
   "source": [
    "# Push to Hugging Face Hub\n",
    "dataset.push_to_hub(\"evilfreelancer/msnp-tests\", private=False, token=HUGGINGFACE_TOKEN)"
   ],
   "id": "693769e095b03e42",
   "outputs": [],
   "execution_count": null
  }
 ],
 "metadata": {
  "kernelspec": {
   "display_name": "Python 3",
   "language": "python",
   "name": "python3"
  },
  "language_info": {
   "codemirror_mode": {
    "name": "ipython",
    "version": 2
   },
   "file_extension": ".py",
   "mimetype": "text/x-python",
   "name": "python",
   "nbconvert_exporter": "python",
   "pygments_lexer": "ipython2",
   "version": "2.7.6"
  }
 },
 "nbformat": 4,
 "nbformat_minor": 5
}
