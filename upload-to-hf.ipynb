{
 "cells": [
  {
   "cell_type": "code",
   "id": "initial_id",
   "metadata": {
    "collapsed": true,
    "ExecuteTime": {
     "end_time": "2024-10-08T13:38:13.084025Z",
     "start_time": "2024-10-08T13:38:05.513557Z"
    }
   },
   "source": "%pip install datasets",
   "outputs": [
    {
     "name": "stdout",
     "output_type": "stream",
     "text": [
      "/bin/bash: warning: setlocale: LC_ALL: cannot change locale (en_US.UTF-8): No such file or directory\r\n",
      "Requirement already satisfied: datasets in /home/pasha/Documents/Repository/gpt/msnp-tests/venv/lib/python3.12/site-packages (3.0.0)\r\n",
      "Requirement already satisfied: filelock in /home/pasha/Documents/Repository/gpt/msnp-tests/venv/lib/python3.12/site-packages (from datasets) (3.16.0)\r\n",
      "Requirement already satisfied: numpy>=1.17 in /home/pasha/Documents/Repository/gpt/msnp-tests/venv/lib/python3.12/site-packages (from datasets) (2.1.1)\r\n",
      "Requirement already satisfied: pyarrow>=15.0.0 in /home/pasha/Documents/Repository/gpt/msnp-tests/venv/lib/python3.12/site-packages (from datasets) (17.0.0)\r\n",
      "Requirement already satisfied: dill<0.3.9,>=0.3.0 in /home/pasha/Documents/Repository/gpt/msnp-tests/venv/lib/python3.12/site-packages (from datasets) (0.3.8)\r\n",
      "Requirement already satisfied: pandas in /home/pasha/Documents/Repository/gpt/msnp-tests/venv/lib/python3.12/site-packages (from datasets) (2.2.2)\r\n",
      "Requirement already satisfied: requests>=2.32.2 in /home/pasha/Documents/Repository/gpt/msnp-tests/venv/lib/python3.12/site-packages (from datasets) (2.32.3)\r\n",
      "Requirement already satisfied: tqdm>=4.66.3 in /home/pasha/Documents/Repository/gpt/msnp-tests/venv/lib/python3.12/site-packages (from datasets) (4.66.5)\r\n",
      "Requirement already satisfied: xxhash in /home/pasha/Documents/Repository/gpt/msnp-tests/venv/lib/python3.12/site-packages (from datasets) (3.5.0)\r\n",
      "Requirement already satisfied: multiprocess in /home/pasha/Documents/Repository/gpt/msnp-tests/venv/lib/python3.12/site-packages (from datasets) (0.70.16)\r\n",
      "Requirement already satisfied: fsspec[http]<=2024.6.1,>=2023.1.0 in /home/pasha/Documents/Repository/gpt/msnp-tests/venv/lib/python3.12/site-packages (from datasets) (2024.6.1)\r\n",
      "Requirement already satisfied: aiohttp in /home/pasha/Documents/Repository/gpt/msnp-tests/venv/lib/python3.12/site-packages (from datasets) (3.10.5)\r\n",
      "Requirement already satisfied: huggingface-hub>=0.22.0 in /home/pasha/Documents/Repository/gpt/msnp-tests/venv/lib/python3.12/site-packages (from datasets) (0.24.7)\r\n",
      "Requirement already satisfied: packaging in /home/pasha/Documents/Repository/gpt/msnp-tests/venv/lib/python3.12/site-packages (from datasets) (24.1)\r\n",
      "Requirement already satisfied: pyyaml>=5.1 in /home/pasha/Documents/Repository/gpt/msnp-tests/venv/lib/python3.12/site-packages (from datasets) (6.0.2)\r\n",
      "Requirement already satisfied: aiohappyeyeballs>=2.3.0 in /home/pasha/Documents/Repository/gpt/msnp-tests/venv/lib/python3.12/site-packages (from aiohttp->datasets) (2.4.0)\r\n",
      "Requirement already satisfied: aiosignal>=1.1.2 in /home/pasha/Documents/Repository/gpt/msnp-tests/venv/lib/python3.12/site-packages (from aiohttp->datasets) (1.3.1)\r\n",
      "Requirement already satisfied: attrs>=17.3.0 in /home/pasha/Documents/Repository/gpt/msnp-tests/venv/lib/python3.12/site-packages (from aiohttp->datasets) (24.2.0)\r\n",
      "Requirement already satisfied: frozenlist>=1.1.1 in /home/pasha/Documents/Repository/gpt/msnp-tests/venv/lib/python3.12/site-packages (from aiohttp->datasets) (1.4.1)\r\n",
      "Requirement already satisfied: multidict<7.0,>=4.5 in /home/pasha/Documents/Repository/gpt/msnp-tests/venv/lib/python3.12/site-packages (from aiohttp->datasets) (6.1.0)\r\n",
      "Requirement already satisfied: yarl<2.0,>=1.0 in /home/pasha/Documents/Repository/gpt/msnp-tests/venv/lib/python3.12/site-packages (from aiohttp->datasets) (1.11.1)\r\n",
      "Requirement already satisfied: typing-extensions>=3.7.4.3 in /home/pasha/Documents/Repository/gpt/msnp-tests/venv/lib/python3.12/site-packages (from huggingface-hub>=0.22.0->datasets) (4.12.2)\r\n",
      "Requirement already satisfied: charset-normalizer<4,>=2 in /home/pasha/Documents/Repository/gpt/msnp-tests/venv/lib/python3.12/site-packages (from requests>=2.32.2->datasets) (3.3.2)\r\n",
      "Requirement already satisfied: idna<4,>=2.5 in /home/pasha/Documents/Repository/gpt/msnp-tests/venv/lib/python3.12/site-packages (from requests>=2.32.2->datasets) (3.10)\r\n",
      "Requirement already satisfied: urllib3<3,>=1.21.1 in /home/pasha/Documents/Repository/gpt/msnp-tests/venv/lib/python3.12/site-packages (from requests>=2.32.2->datasets) (2.2.3)\r\n",
      "Requirement already satisfied: certifi>=2017.4.17 in /home/pasha/Documents/Repository/gpt/msnp-tests/venv/lib/python3.12/site-packages (from requests>=2.32.2->datasets) (2024.8.30)\r\n",
      "Requirement already satisfied: python-dateutil>=2.8.2 in /home/pasha/Documents/Repository/gpt/msnp-tests/venv/lib/python3.12/site-packages (from pandas->datasets) (2.9.0.post0)\r\n",
      "Requirement already satisfied: pytz>=2020.1 in /home/pasha/Documents/Repository/gpt/msnp-tests/venv/lib/python3.12/site-packages (from pandas->datasets) (2024.2)\r\n",
      "Requirement already satisfied: tzdata>=2022.7 in /home/pasha/Documents/Repository/gpt/msnp-tests/venv/lib/python3.12/site-packages (from pandas->datasets) (2024.1)\r\n",
      "Requirement already satisfied: six>=1.5 in /home/pasha/Documents/Repository/gpt/msnp-tests/venv/lib/python3.12/site-packages (from python-dateutil>=2.8.2->pandas->datasets) (1.16.0)\r\n",
      "\r\n",
      "\u001B[1m[\u001B[0m\u001B[34;49mnotice\u001B[0m\u001B[1;39;49m]\u001B[0m\u001B[39;49m A new release of pip is available: \u001B[0m\u001B[31;49m23.2.1\u001B[0m\u001B[39;49m -> \u001B[0m\u001B[32;49m24.2\u001B[0m\r\n",
      "\u001B[1m[\u001B[0m\u001B[34;49mnotice\u001B[0m\u001B[1;39;49m]\u001B[0m\u001B[39;49m To update, run: \u001B[0m\u001B[32;49mpip install --upgrade pip\u001B[0m\r\n",
      "Note: you may need to restart the kernel to use updated packages.\n"
     ]
    }
   ],
   "execution_count": 1
  },
  {
   "metadata": {
    "ExecuteTime": {
     "end_time": "2024-10-08T13:38:15.472875Z",
     "start_time": "2024-10-08T13:38:13.132637Z"
    }
   },
   "cell_type": "code",
   "source": [
    "import os\n",
    "from datasets import Dataset\n",
    "from dotenv import load_dotenv\n",
    "\n",
    "load_dotenv()\n",
    "\n",
    "HUGGINGFACE_TOKEN = os.getenv('HUGGINGFACE_TOKEN')"
   ],
   "id": "912c45f5f0ea2a61",
   "outputs": [],
   "execution_count": 2
  },
  {
   "metadata": {
    "ExecuteTime": {
     "end_time": "2024-10-08T13:38:15.755527Z",
     "start_time": "2024-10-08T13:38:15.681345Z"
    }
   },
   "cell_type": "code",
   "source": [
    "# Read the CSV file\n",
    "dataset = Dataset.from_csv(\"leaderboard_data.csv\")\n",
    "dataset"
   ],
   "id": "e6b53dac3cf39a81",
   "outputs": [
    {
     "data": {
      "text/plain": [
       "Generating train split: 0 examples [00:00, ? examples/s]"
      ],
      "application/vnd.jupyter.widget-view+json": {
       "version_major": 2,
       "version_minor": 0,
       "model_id": "168b7256b4c94351a36138e54e340ed6"
      }
     },
     "metadata": {},
     "output_type": "display_data"
    },
    {
     "data": {
      "text/plain": [
       "Dataset({\n",
       "    features: ['Model', 'Quantization', 'GPUs', 'CPUs', 'RAM GB', 'Context Length', 'Total Tokens', 'Duration (sec)', 'Tokens/sec', 'Time to Retrieve (sec)', 'Start Type', 'GPU Max Power (W)', 'Server Name', 'Test Link'],\n",
       "    num_rows: 45\n",
       "})"
      ]
     },
     "execution_count": 3,
     "metadata": {},
     "output_type": "execute_result"
    }
   ],
   "execution_count": 3
  },
  {
   "metadata": {
    "ExecuteTime": {
     "end_time": "2024-10-08T13:38:20.973070Z",
     "start_time": "2024-10-08T13:38:15.830811Z"
    }
   },
   "cell_type": "code",
   "source": [
    "# Push to Hugging Face Hub\n",
    "dataset.push_to_hub(\"evilfreelancer/msnp-tests\", private=False, token=HUGGINGFACE_TOKEN)"
   ],
   "id": "693769e095b03e42",
   "outputs": [
    {
     "data": {
      "text/plain": [
       "Uploading the dataset shards:   0%|          | 0/1 [00:00<?, ?it/s]"
      ],
      "application/vnd.jupyter.widget-view+json": {
       "version_major": 2,
       "version_minor": 0,
       "model_id": "cb5cded0948b4df6b792caaf3c5ce668"
      }
     },
     "metadata": {},
     "output_type": "display_data"
    },
    {
     "data": {
      "text/plain": [
       "Creating parquet from Arrow format:   0%|          | 0/1 [00:00<?, ?ba/s]"
      ],
      "application/vnd.jupyter.widget-view+json": {
       "version_major": 2,
       "version_minor": 0,
       "model_id": "ea3ad4c77b14448fbc550e7ff1f9fa41"
      }
     },
     "metadata": {},
     "output_type": "display_data"
    },
    {
     "data": {
      "text/plain": [
       "README.md:   0%|          | 0.00/787 [00:00<?, ?B/s]"
      ],
      "application/vnd.jupyter.widget-view+json": {
       "version_major": 2,
       "version_minor": 0,
       "model_id": "0468e7fe563a4bb5bf638bd8fe5f7d6d"
      }
     },
     "metadata": {},
     "output_type": "display_data"
    },
    {
     "data": {
      "text/plain": [
       "CommitInfo(commit_url='https://huggingface.co/datasets/evilfreelancer/msnp-tests/commit/912dd94657bace2d9fc78d6202c5ad56973999d6', commit_message='Upload dataset', commit_description='', oid='912dd94657bace2d9fc78d6202c5ad56973999d6', pr_url=None, pr_revision=None, pr_num=None)"
      ]
     },
     "execution_count": 4,
     "metadata": {},
     "output_type": "execute_result"
    }
   ],
   "execution_count": 4
  }
 ],
 "metadata": {
  "kernelspec": {
   "display_name": "Python 3",
   "language": "python",
   "name": "python3"
  },
  "language_info": {
   "codemirror_mode": {
    "name": "ipython",
    "version": 2
   },
   "file_extension": ".py",
   "mimetype": "text/x-python",
   "name": "python",
   "nbconvert_exporter": "python",
   "pygments_lexer": "ipython2",
   "version": "2.7.6"
  }
 },
 "nbformat": 4,
 "nbformat_minor": 5
}
